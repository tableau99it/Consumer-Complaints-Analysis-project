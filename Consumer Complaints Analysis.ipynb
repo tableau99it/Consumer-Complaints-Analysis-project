{
 "cells": [
  {
   "cell_type": "raw",
   "id": "e0d0e1d4",
   "metadata": {},
   "source": [
    "Problem Statement:\n",
    "\n",
    "Design and build a scalable machine learning pipeline to predict given consumer complaint will \tbe disputed or not.  by using deep leaning (CNN) "
   ]
  },
  {
   "cell_type": "markdown",
   "id": "3f26da94",
   "metadata": {},
   "source": [
    "# import some python libraries"
   ]
  },
  {
   "cell_type": "code",
   "execution_count": 1,
   "id": "de340b01",
   "metadata": {},
   "outputs": [],
   "source": [
    "import pandas as pd\n",
    "import numpy as np\n",
    "import matplotlib.pyplot as plt"
   ]
  },
  {
   "cell_type": "markdown",
   "id": "e7eedc7d",
   "metadata": {},
   "source": [
    "# load the data "
   ]
  },
  {
   "cell_type": "code",
   "execution_count": 2,
   "id": "c3f34c0e",
   "metadata": {},
   "outputs": [
    {
     "name": "stderr",
     "output_type": "stream",
     "text": [
      "C:\\Users\\karun\\anaconda3\\lib\\site-packages\\IPython\\core\\interactiveshell.py:3165: DtypeWarning: Columns (9) have mixed types.Specify dtype option on import or set low_memory=False.\n",
      "  has_raised = await self.run_ast_nodes(code_ast.body, cell_name,\n"
     ]
    },
    {
     "data": {
      "text/html": [
       "<div>\n",
       "<style scoped>\n",
       "    .dataframe tbody tr th:only-of-type {\n",
       "        vertical-align: middle;\n",
       "    }\n",
       "\n",
       "    .dataframe tbody tr th {\n",
       "        vertical-align: top;\n",
       "    }\n",
       "\n",
       "    .dataframe thead th {\n",
       "        text-align: right;\n",
       "    }\n",
       "</style>\n",
       "<table border=\"1\" class=\"dataframe\">\n",
       "  <thead>\n",
       "    <tr style=\"text-align: right;\">\n",
       "      <th></th>\n",
       "      <th>Date received</th>\n",
       "      <th>Product</th>\n",
       "      <th>Sub-product</th>\n",
       "      <th>Issue</th>\n",
       "      <th>Sub-issue</th>\n",
       "      <th>Consumer complaint narrative</th>\n",
       "      <th>Company public response</th>\n",
       "      <th>Company</th>\n",
       "      <th>State</th>\n",
       "      <th>ZIP code</th>\n",
       "      <th>Tags</th>\n",
       "      <th>Consumer consent provided?</th>\n",
       "      <th>Submitted via</th>\n",
       "      <th>Date sent to company</th>\n",
       "      <th>Company response to consumer</th>\n",
       "      <th>Timely response?</th>\n",
       "      <th>Consumer disputed?</th>\n",
       "      <th>Complaint ID</th>\n",
       "    </tr>\n",
       "  </thead>\n",
       "  <tbody>\n",
       "    <tr>\n",
       "      <th>0</th>\n",
       "      <td>2022-04-17</td>\n",
       "      <td>Credit reporting, credit repair services, or o...</td>\n",
       "      <td>Credit reporting</td>\n",
       "      <td>Improper use of your report</td>\n",
       "      <td>Reporting company used your report improperly</td>\n",
       "      <td>NaN</td>\n",
       "      <td>Company has responded to the consumer and the ...</td>\n",
       "      <td>Experian Information Solutions Inc.</td>\n",
       "      <td>DE</td>\n",
       "      <td>19702.0</td>\n",
       "      <td>NaN</td>\n",
       "      <td>Consent not provided</td>\n",
       "      <td>Web</td>\n",
       "      <td>2022-04-17</td>\n",
       "      <td>Closed with non-monetary relief</td>\n",
       "      <td>Yes</td>\n",
       "      <td>NaN</td>\n",
       "      <td>5457569</td>\n",
       "    </tr>\n",
       "    <tr>\n",
       "      <th>1</th>\n",
       "      <td>2022-04-05</td>\n",
       "      <td>Credit reporting, credit repair services, or o...</td>\n",
       "      <td>Credit reporting</td>\n",
       "      <td>Problem with a credit reporting company's inve...</td>\n",
       "      <td>Their investigation did not fix an error on yo...</td>\n",
       "      <td>This consumer reporting agency as defined by l...</td>\n",
       "      <td>Company has responded to the consumer and the ...</td>\n",
       "      <td>Experian Information Solutions Inc.</td>\n",
       "      <td>WA</td>\n",
       "      <td>98023.0</td>\n",
       "      <td>NaN</td>\n",
       "      <td>Consent provided</td>\n",
       "      <td>Web</td>\n",
       "      <td>2022-04-05</td>\n",
       "      <td>Closed with non-monetary relief</td>\n",
       "      <td>Yes</td>\n",
       "      <td>NaN</td>\n",
       "      <td>5409172</td>\n",
       "    </tr>\n",
       "    <tr>\n",
       "      <th>2</th>\n",
       "      <td>2022-07-10</td>\n",
       "      <td>Credit reporting, credit repair services, or o...</td>\n",
       "      <td>Credit reporting</td>\n",
       "      <td>Improper use of your report</td>\n",
       "      <td>Reporting company used your report improperly</td>\n",
       "      <td>NaN</td>\n",
       "      <td>NaN</td>\n",
       "      <td>TRANSUNION INTERMEDIATE HOLDINGS, INC.</td>\n",
       "      <td>FL</td>\n",
       "      <td>34785.0</td>\n",
       "      <td>NaN</td>\n",
       "      <td>NaN</td>\n",
       "      <td>Web</td>\n",
       "      <td>2022-07-10</td>\n",
       "      <td>In progress</td>\n",
       "      <td>Yes</td>\n",
       "      <td>NaN</td>\n",
       "      <td>5754056</td>\n",
       "    </tr>\n",
       "    <tr>\n",
       "      <th>3</th>\n",
       "      <td>2022-07-02</td>\n",
       "      <td>Credit reporting, credit repair services, or o...</td>\n",
       "      <td>Credit reporting</td>\n",
       "      <td>Improper use of your report</td>\n",
       "      <td>Reporting company used your report improperly</td>\n",
       "      <td>NaN</td>\n",
       "      <td>Company has responded to the consumer and the ...</td>\n",
       "      <td>Experian Information Solutions Inc.</td>\n",
       "      <td>PA</td>\n",
       "      <td>19143.0</td>\n",
       "      <td>NaN</td>\n",
       "      <td>NaN</td>\n",
       "      <td>Web</td>\n",
       "      <td>2022-07-02</td>\n",
       "      <td>Closed with explanation</td>\n",
       "      <td>Yes</td>\n",
       "      <td>NaN</td>\n",
       "      <td>5729724</td>\n",
       "    </tr>\n",
       "    <tr>\n",
       "      <th>4</th>\n",
       "      <td>2022-02-03</td>\n",
       "      <td>Credit reporting, credit repair services, or o...</td>\n",
       "      <td>Credit reporting</td>\n",
       "      <td>Incorrect information on your report</td>\n",
       "      <td>Information belongs to someone else</td>\n",
       "      <td>I am writing to delete the following informati...</td>\n",
       "      <td>Company has responded to the consumer and the ...</td>\n",
       "      <td>Experian Information Solutions Inc.</td>\n",
       "      <td>PA</td>\n",
       "      <td>19140.0</td>\n",
       "      <td>NaN</td>\n",
       "      <td>Consent provided</td>\n",
       "      <td>Web</td>\n",
       "      <td>2022-02-03</td>\n",
       "      <td>Closed with explanation</td>\n",
       "      <td>Yes</td>\n",
       "      <td>NaN</td>\n",
       "      <td>5183107</td>\n",
       "    </tr>\n",
       "  </tbody>\n",
       "</table>\n",
       "</div>"
      ],
      "text/plain": [
       "  Date received                                            Product  \\\n",
       "0    2022-04-17  Credit reporting, credit repair services, or o...   \n",
       "1    2022-04-05  Credit reporting, credit repair services, or o...   \n",
       "2    2022-07-10  Credit reporting, credit repair services, or o...   \n",
       "3    2022-07-02  Credit reporting, credit repair services, or o...   \n",
       "4    2022-02-03  Credit reporting, credit repair services, or o...   \n",
       "\n",
       "        Sub-product                                              Issue  \\\n",
       "0  Credit reporting                        Improper use of your report   \n",
       "1  Credit reporting  Problem with a credit reporting company's inve...   \n",
       "2  Credit reporting                        Improper use of your report   \n",
       "3  Credit reporting                        Improper use of your report   \n",
       "4  Credit reporting               Incorrect information on your report   \n",
       "\n",
       "                                           Sub-issue  \\\n",
       "0      Reporting company used your report improperly   \n",
       "1  Their investigation did not fix an error on yo...   \n",
       "2      Reporting company used your report improperly   \n",
       "3      Reporting company used your report improperly   \n",
       "4                Information belongs to someone else   \n",
       "\n",
       "                        Consumer complaint narrative  \\\n",
       "0                                                NaN   \n",
       "1  This consumer reporting agency as defined by l...   \n",
       "2                                                NaN   \n",
       "3                                                NaN   \n",
       "4  I am writing to delete the following informati...   \n",
       "\n",
       "                             Company public response  \\\n",
       "0  Company has responded to the consumer and the ...   \n",
       "1  Company has responded to the consumer and the ...   \n",
       "2                                                NaN   \n",
       "3  Company has responded to the consumer and the ...   \n",
       "4  Company has responded to the consumer and the ...   \n",
       "\n",
       "                                  Company State ZIP code Tags  \\\n",
       "0     Experian Information Solutions Inc.    DE  19702.0  NaN   \n",
       "1     Experian Information Solutions Inc.    WA  98023.0  NaN   \n",
       "2  TRANSUNION INTERMEDIATE HOLDINGS, INC.    FL  34785.0  NaN   \n",
       "3     Experian Information Solutions Inc.    PA  19143.0  NaN   \n",
       "4     Experian Information Solutions Inc.    PA  19140.0  NaN   \n",
       "\n",
       "  Consumer consent provided? Submitted via Date sent to company  \\\n",
       "0       Consent not provided           Web           2022-04-17   \n",
       "1           Consent provided           Web           2022-04-05   \n",
       "2                        NaN           Web           2022-07-10   \n",
       "3                        NaN           Web           2022-07-02   \n",
       "4           Consent provided           Web           2022-02-03   \n",
       "\n",
       "      Company response to consumer Timely response? Consumer disputed?  \\\n",
       "0  Closed with non-monetary relief              Yes                NaN   \n",
       "1  Closed with non-monetary relief              Yes                NaN   \n",
       "2                      In progress              Yes                NaN   \n",
       "3          Closed with explanation              Yes                NaN   \n",
       "4          Closed with explanation              Yes                NaN   \n",
       "\n",
       "   Complaint ID  \n",
       "0       5457569  \n",
       "1       5409172  \n",
       "2       5754056  \n",
       "3       5729724  \n",
       "4       5183107  "
      ]
     },
     "execution_count": 2,
     "metadata": {},
     "output_type": "execute_result"
    }
   ],
   "source": [
    "data = pd.read_csv(\"d:/data/complaints.csv\")\n",
    "data.head()"
   ]
  },
  {
   "cell_type": "markdown",
   "id": "78ed852e",
   "metadata": {},
   "source": [
    "# getting a some information"
   ]
  },
  {
   "cell_type": "code",
   "execution_count": 3,
   "id": "4639bc1b",
   "metadata": {},
   "outputs": [
    {
     "data": {
      "text/plain": [
       "(2785755, 18)"
      ]
     },
     "execution_count": 3,
     "metadata": {},
     "output_type": "execute_result"
    }
   ],
   "source": [
    "data.shape"
   ]
  },
  {
   "cell_type": "code",
   "execution_count": 4,
   "id": "77bb0a1e",
   "metadata": {},
   "outputs": [
    {
     "name": "stdout",
     "output_type": "stream",
     "text": [
      "<class 'pandas.core.frame.DataFrame'>\n",
      "RangeIndex: 2785755 entries, 0 to 2785754\n",
      "Data columns (total 18 columns):\n",
      " #   Column                        Dtype \n",
      "---  ------                        ----- \n",
      " 0   Date received                 object\n",
      " 1   Product                       object\n",
      " 2   Sub-product                   object\n",
      " 3   Issue                         object\n",
      " 4   Sub-issue                     object\n",
      " 5   Consumer complaint narrative  object\n",
      " 6   Company public response       object\n",
      " 7   Company                       object\n",
      " 8   State                         object\n",
      " 9   ZIP code                      object\n",
      " 10  Tags                          object\n",
      " 11  Consumer consent provided?    object\n",
      " 12  Submitted via                 object\n",
      " 13  Date sent to company          object\n",
      " 14  Company response to consumer  object\n",
      " 15  Timely response?              object\n",
      " 16  Consumer disputed?            object\n",
      " 17  Complaint ID                  int64 \n",
      "dtypes: int64(1), object(17)\n",
      "memory usage: 382.6+ MB\n"
     ]
    }
   ],
   "source": [
    "data.info()"
   ]
  },
  {
   "cell_type": "code",
   "execution_count": 5,
   "id": "68bad25f",
   "metadata": {},
   "outputs": [
    {
     "data": {
      "text/plain": [
       "Index(['Date received', 'Product', 'Sub-product', 'Issue', 'Sub-issue',\n",
       "       'Consumer complaint narrative', 'Company public response', 'Company',\n",
       "       'State', 'ZIP code', 'Tags', 'Consumer consent provided?',\n",
       "       'Submitted via', 'Date sent to company', 'Company response to consumer',\n",
       "       'Timely response?', 'Consumer disputed?', 'Complaint ID'],\n",
       "      dtype='object')"
      ]
     },
     "execution_count": 5,
     "metadata": {},
     "output_type": "execute_result"
    }
   ],
   "source": [
    "data.columns"
   ]
  },
  {
   "cell_type": "code",
   "execution_count": 6,
   "id": "4e179568",
   "metadata": {},
   "outputs": [
    {
     "data": {
      "text/plain": [
       "Date received                         0\n",
       "Product                               0\n",
       "Sub-product                      235163\n",
       "Issue                                 0\n",
       "Sub-issue                        666347\n",
       "Consumer complaint narrative    1801554\n",
       "Company public response         1605698\n",
       "Company                               0\n",
       "State                             39917\n",
       "ZIP code                          40203\n",
       "Tags                            2461794\n",
       "Consumer consent provided?       784091\n",
       "Submitted via                         0\n",
       "Date sent to company                  0\n",
       "Company response to consumer          3\n",
       "Timely response?                      0\n",
       "Consumer disputed?              2017299\n",
       "Complaint ID                          0\n",
       "dtype: int64"
      ]
     },
     "execution_count": 6,
     "metadata": {},
     "output_type": "execute_result"
    }
   ],
   "source": [
    "data.isna().sum()"
   ]
  },
  {
   "cell_type": "code",
   "execution_count": 7,
   "id": "b9798952",
   "metadata": {},
   "outputs": [
    {
     "data": {
      "text/plain": [
       "Credit reporting, credit repair services, or other personal consumer reports    1189371\n",
       "Debt collection                                                                  431952\n",
       "Mortgage                                                                         357192\n",
       "Credit card or prepaid card                                                      149602\n",
       "Credit reporting                                                                 140430\n",
       "Checking or savings account                                                      127585\n",
       "Credit card                                                                       89190\n",
       "Bank account or service                                                           86206\n",
       "Student loan                                                                      67652\n",
       "Money transfer, virtual currency, or money service                                42268\n",
       "Vehicle loan or lease                                                             33922\n",
       "Consumer Loan                                                                     31598\n",
       "Payday loan, title loan, or personal loan                                         22995\n",
       "Payday loan                                                                        5543\n",
       "Money transfers                                                                    5354\n",
       "Prepaid card                                                                       3819\n",
       "Other financial service                                                            1058\n",
       "Virtual currency                                                                     18\n",
       "Name: Product, dtype: int64"
      ]
     },
     "execution_count": 7,
     "metadata": {},
     "output_type": "execute_result"
    }
   ],
   "source": [
    "data['Product'].value_counts()"
   ]
  },
  {
   "cell_type": "code",
   "execution_count": 8,
   "id": "49ee57a9",
   "metadata": {},
   "outputs": [
    {
     "data": {
      "text/plain": [
       "array(['Credit reporting, credit repair services, or other personal consumer reports',\n",
       "       'Mortgage', 'Checking or savings account',\n",
       "       'Credit card or prepaid card', 'Vehicle loan or lease',\n",
       "       'Debt collection', 'Payday loan, title loan, or personal loan',\n",
       "       'Money transfer, virtual currency, or money service',\n",
       "       'Student loan', 'Consumer Loan', 'Bank account or service',\n",
       "       'Credit reporting', 'Credit card', 'Other financial service',\n",
       "       'Payday loan', 'Money transfers', 'Prepaid card',\n",
       "       'Virtual currency'], dtype=object)"
      ]
     },
     "execution_count": 8,
     "metadata": {},
     "output_type": "execute_result"
    }
   ],
   "source": [
    "data['Product'].unique()"
   ]
  },
  {
   "cell_type": "code",
   "execution_count": 9,
   "id": "8abf3bc6",
   "metadata": {},
   "outputs": [
    {
     "data": {
      "text/plain": [
       "Date received                      3874\n",
       "Product                              18\n",
       "Sub-product                          76\n",
       "Issue                               165\n",
       "Sub-issue                           221\n",
       "Consumer complaint narrative     867498\n",
       "Company public response              11\n",
       "Company                            6421\n",
       "State                                63\n",
       "ZIP code                          59191\n",
       "Tags                                  3\n",
       "Consumer consent provided?            4\n",
       "Submitted via                         7\n",
       "Date sent to company               3823\n",
       "Company response to consumer          8\n",
       "Timely response?                      2\n",
       "Consumer disputed?                    2\n",
       "Complaint ID                    2785755\n",
       "dtype: int64"
      ]
     },
     "execution_count": 9,
     "metadata": {},
     "output_type": "execute_result"
    }
   ],
   "source": [
    "data.nunique()"
   ]
  },
  {
   "cell_type": "code",
   "execution_count": 10,
   "id": "7e77978c",
   "metadata": {},
   "outputs": [
    {
     "data": {
      "text/plain": [
       "0"
      ]
     },
     "execution_count": 10,
     "metadata": {},
     "output_type": "execute_result"
    }
   ],
   "source": [
    "data.duplicated().sum()"
   ]
  },
  {
   "cell_type": "code",
   "execution_count": 11,
   "id": "52f9c1d9",
   "metadata": {},
   "outputs": [
    {
     "data": {
      "text/plain": [
       "array([nan, 'Older American', 'Servicemember',\n",
       "       'Older American, Servicemember'], dtype=object)"
      ]
     },
     "execution_count": 11,
     "metadata": {},
     "output_type": "execute_result"
    }
   ],
   "source": [
    "data['Tags'].unique()"
   ]
  },
  {
   "cell_type": "code",
   "execution_count": 12,
   "id": "fbecb39e",
   "metadata": {},
   "outputs": [
    {
     "data": {
      "text/plain": [
       "Servicemember                    176617\n",
       "Older American                   119773\n",
       "Older American, Servicemember     27571\n",
       "Name: Tags, dtype: int64"
      ]
     },
     "execution_count": 12,
     "metadata": {},
     "output_type": "execute_result"
    }
   ],
   "source": [
    "data['Tags'].value_counts()"
   ]
  },
  {
   "cell_type": "code",
   "execution_count": 13,
   "id": "d03804a3",
   "metadata": {},
   "outputs": [
    {
     "data": {
      "text/plain": [
       "No     620078\n",
       "Yes    148378\n",
       "Name: Consumer disputed?, dtype: int64"
      ]
     },
     "execution_count": 13,
     "metadata": {},
     "output_type": "execute_result"
    }
   ],
   "source": [
    "data['Consumer disputed?'].value_counts()"
   ]
  },
  {
   "cell_type": "code",
   "execution_count": 14,
   "id": "50b5132d",
   "metadata": {},
   "outputs": [
    {
     "data": {
      "text/plain": [
       "array([nan, 'No', 'Yes'], dtype=object)"
      ]
     },
     "execution_count": 14,
     "metadata": {},
     "output_type": "execute_result"
    }
   ],
   "source": [
    "data['Consumer disputed?'].unique()"
   ]
  },
  {
   "cell_type": "code",
   "execution_count": 15,
   "id": "04e3f73e",
   "metadata": {},
   "outputs": [
    {
     "data": {
      "text/plain": [
       "Yes    2737472\n",
       "No       48283\n",
       "Name: Timely response?, dtype: int64"
      ]
     },
     "execution_count": 15,
     "metadata": {},
     "output_type": "execute_result"
    }
   ],
   "source": [
    "data['Timely response?'].value_counts()"
   ]
  },
  {
   "cell_type": "code",
   "execution_count": 16,
   "id": "fe359ac8",
   "metadata": {},
   "outputs": [
    {
     "data": {
      "text/plain": [
       "array(['Yes', 'No'], dtype=object)"
      ]
     },
     "execution_count": 16,
     "metadata": {},
     "output_type": "execute_result"
    }
   ],
   "source": [
    "data['Timely response?'].unique()"
   ]
  },
  {
   "cell_type": "code",
   "execution_count": 17,
   "id": "5548520a",
   "metadata": {},
   "outputs": [
    {
     "data": {
      "text/plain": [
       "EQUIFAX, INC.                             457235\n",
       "TRANSUNION INTERMEDIATE HOLDINGS, INC.    361471\n",
       "Experian Information Solutions Inc.       337893\n",
       "BANK OF AMERICA, NATIONAL ASSOCIATION     114541\n",
       "WELLS FARGO & COMPANY                      97657\n",
       "                                           ...  \n",
       "Real Pay, Inc                                  1\n",
       "National Credit Union Administration           1\n",
       "Handshake Home Loans Inc.                      1\n",
       "Eagle Auto Credit Inc                          1\n",
       "Signature Home Lending Inc                     1\n",
       "Name: Company, Length: 6421, dtype: int64"
      ]
     },
     "execution_count": 17,
     "metadata": {},
     "output_type": "execute_result"
    }
   ],
   "source": [
    "data['Company'].value_counts()"
   ]
  },
  {
   "cell_type": "code",
   "execution_count": 18,
   "id": "35767a2a",
   "metadata": {},
   "outputs": [
    {
     "data": {
      "text/plain": [
       "array(['Experian Information Solutions Inc.',\n",
       "       'TRANSUNION INTERMEDIATE HOLDINGS, INC.', 'EQUIFAX, INC.', ...,\n",
       "       'JLM R.E. INVESTMENTS', 'Westport Recovery Corporation',\n",
       "       'BAY VALLEY'], dtype=object)"
      ]
     },
     "execution_count": 18,
     "metadata": {},
     "output_type": "execute_result"
    }
   ],
   "source": [
    "data['Company'].unique()"
   ]
  },
  {
   "cell_type": "markdown",
   "id": "83d636a5",
   "metadata": {},
   "source": [
    "# Data Exploration with visualization"
   ]
  },
  {
   "cell_type": "code",
   "execution_count": 19,
   "id": "db505a76",
   "metadata": {},
   "outputs": [],
   "source": [
    "#Percentage of missing values\n",
    "missing_value = round((data.isna().sum()/len(data)*100),2).sort_values(ascending=False)"
   ]
  },
  {
   "cell_type": "code",
   "execution_count": 20,
   "id": "82a96450",
   "metadata": {},
   "outputs": [
    {
     "data": {
      "text/plain": [
       "Tags                            88.37\n",
       "Consumer disputed?              72.41\n",
       "Consumer complaint narrative    64.67\n",
       "Company public response         57.64\n",
       "Consumer consent provided?      28.15\n",
       "Sub-issue                       23.92\n",
       "Sub-product                      8.44\n",
       "ZIP code                         1.44\n",
       "State                            1.43\n",
       "Date sent to company             0.00\n",
       "Timely response?                 0.00\n",
       "Company response to consumer     0.00\n",
       "Date received                    0.00\n",
       "Submitted via                    0.00\n",
       "Product                          0.00\n",
       "Company                          0.00\n",
       "Issue                            0.00\n",
       "Complaint ID                     0.00\n",
       "dtype: float64"
      ]
     },
     "execution_count": 20,
     "metadata": {},
     "output_type": "execute_result"
    }
   ],
   "source": [
    "missing_value"
   ]
  },
  {
   "cell_type": "code",
   "execution_count": 21,
   "id": "a7568126",
   "metadata": {},
   "outputs": [
    {
     "data": {
      "image/png": "[encoded data removed]",
      "text/plain": [
       "<Figure size 576x360 with 1 Axes>"
      ]
     },
     "metadata": {
      "needs_background": "light"
     },
     "output_type": "display_data"
    }
   ],
   "source": [
    "plt.figure(figsize=(8,5))\n",
    "plt.bar(x=missing_value.index,height=missing_value.values)\n",
    "plt.xticks(rotation=80)\n",
    "plt.xlabel(\"Variable name\")\n",
    "plt.ylabel('missing data values')\n",
    "plt.title(\"missing data\")\n",
    "plt.show()"
   ]
  },
  {
   "cell_type": "code",
   "execution_count": null,
   "id": "e662406b",
   "metadata": {},
   "outputs": [],
   "source": []
  },
  {
   "cell_type": "code",
   "execution_count": 22,
   "id": "c299f15f",
   "metadata": {},
   "outputs": [
    {
     "data": {
      "image/png": "[encoded data removed]",
      "text/plain": [
       "<Figure size 720x432 with 1 Axes>"
      ]
     },
     "metadata": {
      "needs_background": "light"
     },
     "output_type": "display_data"
    }
   ],
   "source": [
    "#Product wise complaints\n",
    "plt.figure(figsize=(10,6))\n",
    "plt.bar(x=data['Product'].unique(),height=data['Product'].value_counts())\n",
    "plt.xticks(rotation=274)\n",
    "plt.xlabel(\"Products\")\n",
    "plt.ylabel(\"Number of complaints\")\n",
    "plt.title(\"Product wise complaints\")\n",
    "plt.show()"
   ]
  },
  {
   "cell_type": "code",
   "execution_count": null,
   "id": "97e26c71",
   "metadata": {},
   "outputs": [],
   "source": []
  },
  {
   "cell_type": "code",
   "execution_count": 23,
   "id": "72463024",
   "metadata": {},
   "outputs": [],
   "source": [
    "#State wise complaints to  Consumer disputed? or not\n",
    "data1 = data.groupby(['State', 'Consumer disputed?']).agg({'Consumer disputed?':'count'})\n",
    "data1.columns = ['No_of_Complaints']\n",
    "data1 = data1.reset_index()\n",
    "data1.rename(columns={'Consumer disputed?':'disputed_or_not'},inplace=True)\n",
    "disputed = data1.query(\"disputed_or_not=='Yes'\")\n",
    "No_disputed = data1.query(\"disputed_or_not=='No'\")"
   ]
  },
  {
   "cell_type": "code",
   "execution_count": 24,
   "id": "c92a17b3",
   "metadata": {},
   "outputs": [
    {
     "name": "stderr",
     "output_type": "stream",
     "text": [
      "C:\\Users\\karun\\anaconda3\\lib\\site-packages\\pandas\\core\\frame.py:4441: SettingWithCopyWarning: \n",
      "A value is trying to be set on a copy of a slice from a DataFrame\n",
      "\n",
      "See the caveats in the documentation: https://pandas.pydata.org/pandas-docs/stable/user_guide/indexing.html#returning-a-view-versus-a-copy\n",
      "  return super().rename(\n"
     ]
    }
   ],
   "source": [
    "disputed.rename(columns = {'No_of_Complaints':'Yes'},inplace=True)\n",
    "No_disputed.rename(columns = {'No_of_Complaints':'No'},inplace=True)\n",
    "\n",
    "disputed = disputed.drop('disputed_or_not',axis=1)\n",
    "No_disputed = No_disputed.drop('disputed_or_not',axis=1)\n",
    "\n",
    "disputed.set_index('State',inplace=True)\n",
    "No_disputed.set_index('State',inplace=True)\n",
    "\n",
    "disputed_or_not = pd.concat([disputed,No_disputed],axis=1)\n",
    "disputed_or_not['Total_Complaints'] = disputed_or_not.Yes+disputed_or_not.No"
   ]
  },
  {
   "cell_type": "code",
   "execution_count": 25,
   "id": "17517a70",
   "metadata": {},
   "outputs": [
    {
     "data": {
      "text/html": [
       "<div>\n",
       "<style scoped>\n",
       "    .dataframe tbody tr th:only-of-type {\n",
       "        vertical-align: middle;\n",
       "    }\n",
       "\n",
       "    .dataframe tbody tr th {\n",
       "        vertical-align: top;\n",
       "    }\n",
       "\n",
       "    .dataframe thead th {\n",
       "        text-align: right;\n",
       "    }\n",
       "</style>\n",
       "<table border=\"1\" class=\"dataframe\">\n",
       "  <thead>\n",
       "    <tr style=\"text-align: right;\">\n",
       "      <th></th>\n",
       "      <th>Yes</th>\n",
       "      <th>No</th>\n",
       "      <th>Total_Complaints</th>\n",
       "    </tr>\n",
       "    <tr>\n",
       "      <th>State</th>\n",
       "      <th></th>\n",
       "      <th></th>\n",
       "      <th></th>\n",
       "    </tr>\n",
       "  </thead>\n",
       "  <tbody>\n",
       "    <tr>\n",
       "      <th>CA</th>\n",
       "      <td>22587</td>\n",
       "      <td>88050</td>\n",
       "      <td>110637</td>\n",
       "    </tr>\n",
       "    <tr>\n",
       "      <th>FL</th>\n",
       "      <td>13904</td>\n",
       "      <td>59691</td>\n",
       "      <td>73595</td>\n",
       "    </tr>\n",
       "    <tr>\n",
       "      <th>TX</th>\n",
       "      <td>10681</td>\n",
       "      <td>48727</td>\n",
       "      <td>59408</td>\n",
       "    </tr>\n",
       "    <tr>\n",
       "      <th>NY</th>\n",
       "      <td>9841</td>\n",
       "      <td>42694</td>\n",
       "      <td>52535</td>\n",
       "    </tr>\n",
       "    <tr>\n",
       "      <th>GA</th>\n",
       "      <td>6739</td>\n",
       "      <td>29510</td>\n",
       "      <td>36249</td>\n",
       "    </tr>\n",
       "    <tr>\n",
       "      <th>...</th>\n",
       "      <td>...</td>\n",
       "      <td>...</td>\n",
       "      <td>...</td>\n",
       "    </tr>\n",
       "    <tr>\n",
       "      <th>MP</th>\n",
       "      <td>5</td>\n",
       "      <td>26</td>\n",
       "      <td>31</td>\n",
       "    </tr>\n",
       "    <tr>\n",
       "      <th>MH</th>\n",
       "      <td>7</td>\n",
       "      <td>23</td>\n",
       "      <td>30</td>\n",
       "    </tr>\n",
       "    <tr>\n",
       "      <th>AS</th>\n",
       "      <td>6</td>\n",
       "      <td>19</td>\n",
       "      <td>25</td>\n",
       "    </tr>\n",
       "    <tr>\n",
       "      <th>PW</th>\n",
       "      <td>4</td>\n",
       "      <td>9</td>\n",
       "      <td>13</td>\n",
       "    </tr>\n",
       "    <tr>\n",
       "      <th>AA</th>\n",
       "      <td>3</td>\n",
       "      <td>10</td>\n",
       "      <td>13</td>\n",
       "    </tr>\n",
       "  </tbody>\n",
       "</table>\n",
       "<p>62 rows × 3 columns</p>\n",
       "</div>"
      ],
      "text/plain": [
       "         Yes     No  Total_Complaints\n",
       "State                                \n",
       "CA     22587  88050            110637\n",
       "FL     13904  59691             73595\n",
       "TX     10681  48727             59408\n",
       "NY      9841  42694             52535\n",
       "GA      6739  29510             36249\n",
       "...      ...    ...               ...\n",
       "MP         5     26                31\n",
       "MH         7     23                30\n",
       "AS         6     19                25\n",
       "PW         4      9                13\n",
       "AA         3     10                13\n",
       "\n",
       "[62 rows x 3 columns]"
      ]
     },
     "execution_count": 25,
     "metadata": {},
     "output_type": "execute_result"
    }
   ],
   "source": [
    "disputed_or_not.sort_values('Total_Complaints',inplace=True,ascending=False)\n",
    "disputed_or_not"
   ]
  },
  {
   "cell_type": "code",
   "execution_count": 26,
   "id": "47e1c183",
   "metadata": {},
   "outputs": [
    {
     "data": {
      "image/png": "[encoded data removed]",
      "text/plain": [
       "<Figure size 864x432 with 1 Axes>"
      ]
     },
     "metadata": {
      "needs_background": "light"
     },
     "output_type": "display_data"
    }
   ],
   "source": [
    "plt.figure(figsize=(12,6))\n",
    "plt.bar(disputed_or_not.head(20).index,disputed_or_not.Yes.head(20),label='Consumer disputed')\n",
    "plt.bar(disputed_or_not.head(20).index,disputed_or_not.No.head(20),label='Consumer not disputed',\n",
    "        bottom=disputed_or_not.Yes.head(20))\n",
    "plt.legend()\n",
    "plt.xlabel('State')\n",
    "plt.ylabel('Number of Complaints')\n",
    "plt.title(\"Top 20 State's Consumer details\")\n",
    "plt.show()"
   ]
  },
  {
   "cell_type": "code",
   "execution_count": null,
   "id": "cbe06004",
   "metadata": {},
   "outputs": [],
   "source": []
  },
  {
   "cell_type": "code",
   "execution_count": 27,
   "id": "9fec171c",
   "metadata": {},
   "outputs": [],
   "source": [
    "# No.of complaints with Timely response? or not in Compnay \n",
    "data2 = data.groupby(['Company','Timely response?']).agg({'Timely response?':'count'})\n",
    "data2.columns = ['No_of_complaints']\n",
    "data2 = data2.reset_index()\n",
    "data2.rename(columns={'Timely response?':'Timely_response'},inplace=True)\n",
    "Timely_response = data2.query(\"Timely_response=='Yes'\")\n",
    "Late_response = data2.query(\"Timely_response=='No'\")"
   ]
  },
  {
   "cell_type": "code",
   "execution_count": 28,
   "id": "f3cffb51",
   "metadata": {},
   "outputs": [
    {
     "name": "stderr",
     "output_type": "stream",
     "text": [
      "C:\\Users\\karun\\anaconda3\\lib\\site-packages\\pandas\\core\\frame.py:4441: SettingWithCopyWarning: \n",
      "A value is trying to be set on a copy of a slice from a DataFrame\n",
      "\n",
      "See the caveats in the documentation: https://pandas.pydata.org/pandas-docs/stable/user_guide/indexing.html#returning-a-view-versus-a-copy\n",
      "  return super().rename(\n"
     ]
    }
   ],
   "source": [
    "Timely_response.rename(columns= {'No_of_complaints':'Yes'},inplace=True)\n",
    "Late_response.rename(columns= {'No_of_complaints':'No'},inplace=True)\n",
    "\n",
    "Timely_response = Timely_response.drop('Timely_response',axis=1)\n",
    "Late_response = Late_response.drop('Timely_response',axis=1)\n",
    "\n",
    "Timely_response.set_index('Company',inplace=True)\n",
    "Late_response.set_index('Company',inplace=True)\n",
    "\n",
    "Timely_or_Late_response = pd.concat([Timely_response,Late_response],axis=1)\n",
    "Timely_or_Late_response['Total Complaints'] = Timely_response.Yes+Late_response.No"
   ]
  },
  {
   "cell_type": "code",
   "execution_count": 29,
   "id": "980d61b7",
   "metadata": {},
   "outputs": [
    {
     "data": {
      "text/html": [
       "<div>\n",
       "<style scoped>\n",
       "    .dataframe tbody tr th:only-of-type {\n",
       "        vertical-align: middle;\n",
       "    }\n",
       "\n",
       "    .dataframe tbody tr th {\n",
       "        vertical-align: top;\n",
       "    }\n",
       "\n",
       "    .dataframe thead th {\n",
       "        text-align: right;\n",
       "    }\n",
       "</style>\n",
       "<table border=\"1\" class=\"dataframe\">\n",
       "  <thead>\n",
       "    <tr style=\"text-align: right;\">\n",
       "      <th></th>\n",
       "      <th>Yes</th>\n",
       "      <th>No</th>\n",
       "      <th>Total Complaints</th>\n",
       "    </tr>\n",
       "    <tr>\n",
       "      <th>Company</th>\n",
       "      <th></th>\n",
       "      <th></th>\n",
       "      <th></th>\n",
       "    </tr>\n",
       "  </thead>\n",
       "  <tbody>\n",
       "    <tr>\n",
       "      <th>Kevin A. Stevens</th>\n",
       "      <td>1.0</td>\n",
       "      <td>1.0</td>\n",
       "      <td>2.0</td>\n",
       "    </tr>\n",
       "    <tr>\n",
       "      <th>Lakeland West Capital LLC</th>\n",
       "      <td>1.0</td>\n",
       "      <td>1.0</td>\n",
       "      <td>2.0</td>\n",
       "    </tr>\n",
       "    <tr>\n",
       "      <th>Landmark Mortgage LLC</th>\n",
       "      <td>1.0</td>\n",
       "      <td>1.0</td>\n",
       "      <td>2.0</td>\n",
       "    </tr>\n",
       "    <tr>\n",
       "      <th>Smith, Slusky, Pohren &amp; Rogers, LLP</th>\n",
       "      <td>1.0</td>\n",
       "      <td>1.0</td>\n",
       "      <td>2.0</td>\n",
       "    </tr>\n",
       "    <tr>\n",
       "      <th>SmartCredit LLC</th>\n",
       "      <td>1.0</td>\n",
       "      <td>1.0</td>\n",
       "      <td>2.0</td>\n",
       "    </tr>\n",
       "    <tr>\n",
       "      <th>...</th>\n",
       "      <td>...</td>\n",
       "      <td>...</td>\n",
       "      <td>...</td>\n",
       "    </tr>\n",
       "    <tr>\n",
       "      <th>Woodward Capital LLC</th>\n",
       "      <td>NaN</td>\n",
       "      <td>3.0</td>\n",
       "      <td>NaN</td>\n",
       "    </tr>\n",
       "    <tr>\n",
       "      <th>World Wide Pay Day Advance, Inc</th>\n",
       "      <td>NaN</td>\n",
       "      <td>1.0</td>\n",
       "      <td>NaN</td>\n",
       "    </tr>\n",
       "    <tr>\n",
       "      <th>Zeidman’s Jewelry &amp; Loan of Michigan</th>\n",
       "      <td>NaN</td>\n",
       "      <td>2.0</td>\n",
       "      <td>NaN</td>\n",
       "    </tr>\n",
       "    <tr>\n",
       "      <th>eMortgage Funding LLC</th>\n",
       "      <td>NaN</td>\n",
       "      <td>8.0</td>\n",
       "      <td>NaN</td>\n",
       "    </tr>\n",
       "    <tr>\n",
       "      <th>iCollect.com, Corp.</th>\n",
       "      <td>NaN</td>\n",
       "      <td>1.0</td>\n",
       "      <td>NaN</td>\n",
       "    </tr>\n",
       "  </tbody>\n",
       "</table>\n",
       "<p>6421 rows × 3 columns</p>\n",
       "</div>"
      ],
      "text/plain": [
       "                                      Yes   No  Total Complaints\n",
       "Company                                                         \n",
       "Kevin A. Stevens                      1.0  1.0               2.0\n",
       "Lakeland West Capital LLC             1.0  1.0               2.0\n",
       "Landmark Mortgage LLC                 1.0  1.0               2.0\n",
       "Smith, Slusky, Pohren & Rogers, LLP   1.0  1.0               2.0\n",
       "SmartCredit LLC                       1.0  1.0               2.0\n",
       "...                                   ...  ...               ...\n",
       "Woodward Capital LLC                  NaN  3.0               NaN\n",
       "World Wide Pay Day Advance, Inc       NaN  1.0               NaN\n",
       "Zeidman’s Jewelry & Loan of Michigan  NaN  2.0               NaN\n",
       "eMortgage Funding LLC                 NaN  8.0               NaN\n",
       "iCollect.com, Corp.                   NaN  1.0               NaN\n",
       "\n",
       "[6421 rows x 3 columns]"
      ]
     },
     "execution_count": 29,
     "metadata": {},
     "output_type": "execute_result"
    }
   ],
   "source": [
    "Timely_or_Late_response.sort_values('Total Complaints',inplace=True)\n",
    "Timely_or_Late_response"
   ]
  },
  {
   "cell_type": "code",
   "execution_count": 30,
   "id": "71749a9a",
   "metadata": {},
   "outputs": [
    {
     "data": {
      "image/png": "[encoded data removed]",
      "text/plain": [
       "<Figure size 864x432 with 1 Axes>"
      ]
     },
     "metadata": {
      "needs_background": "light"
     },
     "output_type": "display_data"
    }
   ],
   "source": [
    "plt.figure(figsize=(12,6))\n",
    "plt.bar(Timely_or_Late_response.head(30).index,Timely_response.Yes.head(30),label='Timely response')\n",
    "plt.bar(Timely_or_Late_response.head(30).index,Timely_response.Yes.head(30),label='Late response',\n",
    "       bottom=Timely_response.Yes.head(30))\n",
    "plt.legend()\n",
    "plt.xticks(rotation=85)\n",
    "plt.xlabel('Company')\n",
    "plt.ylabel('No. of Complains')\n",
    "plt.title(\"Top 30 Company's response\")\n",
    "plt.show()"
   ]
  },
  {
   "cell_type": "code",
   "execution_count": null,
   "id": "6f32613c",
   "metadata": {},
   "outputs": [],
   "source": []
  },
  {
   "cell_type": "markdown",
   "id": "004a93bb",
   "metadata": {},
   "source": [
    "# Remove a unwanted data for Prepare a Data "
   ]
  },
  {
   "cell_type": "code",
   "execution_count": 31,
   "id": "e9664a14",
   "metadata": {},
   "outputs": [
    {
     "data": {
      "text/html": [
       "<div>\n",
       "<style scoped>\n",
       "    .dataframe tbody tr th:only-of-type {\n",
       "        vertical-align: middle;\n",
       "    }\n",
       "\n",
       "    .dataframe tbody tr th {\n",
       "        vertical-align: top;\n",
       "    }\n",
       "\n",
       "    .dataframe thead th {\n",
       "        text-align: right;\n",
       "    }\n",
       "</style>\n",
       "<table border=\"1\" class=\"dataframe\">\n",
       "  <thead>\n",
       "    <tr style=\"text-align: right;\">\n",
       "      <th></th>\n",
       "      <th>Product</th>\n",
       "      <th>Consumer disputed?</th>\n",
       "      <th>Timely response?</th>\n",
       "    </tr>\n",
       "  </thead>\n",
       "  <tbody>\n",
       "    <tr>\n",
       "      <th>0</th>\n",
       "      <td>Credit reporting, credit repair services, or o...</td>\n",
       "      <td>NaN</td>\n",
       "      <td>Yes</td>\n",
       "    </tr>\n",
       "    <tr>\n",
       "      <th>1</th>\n",
       "      <td>Credit reporting, credit repair services, or o...</td>\n",
       "      <td>NaN</td>\n",
       "      <td>Yes</td>\n",
       "    </tr>\n",
       "    <tr>\n",
       "      <th>2</th>\n",
       "      <td>Credit reporting, credit repair services, or o...</td>\n",
       "      <td>NaN</td>\n",
       "      <td>Yes</td>\n",
       "    </tr>\n",
       "    <tr>\n",
       "      <th>3</th>\n",
       "      <td>Credit reporting, credit repair services, or o...</td>\n",
       "      <td>NaN</td>\n",
       "      <td>Yes</td>\n",
       "    </tr>\n",
       "    <tr>\n",
       "      <th>4</th>\n",
       "      <td>Credit reporting, credit repair services, or o...</td>\n",
       "      <td>NaN</td>\n",
       "      <td>Yes</td>\n",
       "    </tr>\n",
       "  </tbody>\n",
       "</table>\n",
       "</div>"
      ],
      "text/plain": [
       "                                             Product Consumer disputed?  \\\n",
       "0  Credit reporting, credit repair services, or o...                NaN   \n",
       "1  Credit reporting, credit repair services, or o...                NaN   \n",
       "2  Credit reporting, credit repair services, or o...                NaN   \n",
       "3  Credit reporting, credit repair services, or o...                NaN   \n",
       "4  Credit reporting, credit repair services, or o...                NaN   \n",
       "\n",
       "  Timely response?  \n",
       "0              Yes  \n",
       "1              Yes  \n",
       "2              Yes  \n",
       "3              Yes  \n",
       "4              Yes  "
      ]
     },
     "execution_count": 31,
     "metadata": {},
     "output_type": "execute_result"
    }
   ],
   "source": [
    "data = data[['Product','Consumer disputed?','Timely response?']]\n",
    "data.head()"
   ]
  },
  {
   "cell_type": "code",
   "execution_count": 32,
   "id": "ce6b9da7",
   "metadata": {},
   "outputs": [
    {
     "data": {
      "text/plain": [
       "Product                     0\n",
       "Consumer disputed?    2017299\n",
       "Timely response?            0\n",
       "dtype: int64"
      ]
     },
     "execution_count": 32,
     "metadata": {},
     "output_type": "execute_result"
    }
   ],
   "source": [
    "data.isnull().sum()"
   ]
  },
  {
   "cell_type": "code",
   "execution_count": 33,
   "id": "9d530f3d",
   "metadata": {},
   "outputs": [
    {
     "data": {
      "text/html": [
       "<div>\n",
       "<style scoped>\n",
       "    .dataframe tbody tr th:only-of-type {\n",
       "        vertical-align: middle;\n",
       "    }\n",
       "\n",
       "    .dataframe tbody tr th {\n",
       "        vertical-align: top;\n",
       "    }\n",
       "\n",
       "    .dataframe thead th {\n",
       "        text-align: right;\n",
       "    }\n",
       "</style>\n",
       "<table border=\"1\" class=\"dataframe\">\n",
       "  <thead>\n",
       "    <tr style=\"text-align: right;\">\n",
       "      <th></th>\n",
       "      <th>Product</th>\n",
       "      <th>Consumer disputed?</th>\n",
       "      <th>Timely response?</th>\n",
       "    </tr>\n",
       "  </thead>\n",
       "  <tbody>\n",
       "    <tr>\n",
       "      <th>463</th>\n",
       "      <td>Consumer Loan</td>\n",
       "      <td>No</td>\n",
       "      <td>Yes</td>\n",
       "    </tr>\n",
       "    <tr>\n",
       "      <th>1657</th>\n",
       "      <td>Debt collection</td>\n",
       "      <td>No</td>\n",
       "      <td>Yes</td>\n",
       "    </tr>\n",
       "    <tr>\n",
       "      <th>1808</th>\n",
       "      <td>Consumer Loan</td>\n",
       "      <td>No</td>\n",
       "      <td>Yes</td>\n",
       "    </tr>\n",
       "    <tr>\n",
       "      <th>5641</th>\n",
       "      <td>Debt collection</td>\n",
       "      <td>No</td>\n",
       "      <td>Yes</td>\n",
       "    </tr>\n",
       "    <tr>\n",
       "      <th>11134</th>\n",
       "      <td>Bank account or service</td>\n",
       "      <td>No</td>\n",
       "      <td>No</td>\n",
       "    </tr>\n",
       "  </tbody>\n",
       "</table>\n",
       "</div>"
      ],
      "text/plain": [
       "                       Product Consumer disputed? Timely response?\n",
       "463              Consumer Loan                 No              Yes\n",
       "1657           Debt collection                 No              Yes\n",
       "1808             Consumer Loan                 No              Yes\n",
       "5641           Debt collection                 No              Yes\n",
       "11134  Bank account or service                 No               No"
      ]
     },
     "execution_count": 33,
     "metadata": {},
     "output_type": "execute_result"
    }
   ],
   "source": [
    "data.dropna(inplace=True)\n",
    "data.head()"
   ]
  },
  {
   "cell_type": "code",
   "execution_count": 34,
   "id": "611e1ff4",
   "metadata": {},
   "outputs": [
    {
     "data": {
      "text/plain": [
       "(768456, 3)"
      ]
     },
     "execution_count": 34,
     "metadata": {},
     "output_type": "execute_result"
    }
   ],
   "source": [
    "data.shape"
   ]
  },
  {
   "cell_type": "code",
   "execution_count": 35,
   "id": "619e0ceb",
   "metadata": {},
   "outputs": [],
   "source": [
    "# Encoder Label\n",
    "from sklearn import preprocessing\n",
    "label_encoder = preprocessing.LabelEncoder()"
   ]
  },
  {
   "cell_type": "code",
   "execution_count": 36,
   "id": "8f02740a",
   "metadata": {},
   "outputs": [],
   "source": [
    "data['Product'] = label_encoder.fit_transform(data['Product'])"
   ]
  },
  {
   "cell_type": "code",
   "execution_count": 37,
   "id": "a135dd82",
   "metadata": {},
   "outputs": [
    {
     "data": {
      "text/html": [
       "<div>\n",
       "<style scoped>\n",
       "    .dataframe tbody tr th:only-of-type {\n",
       "        vertical-align: middle;\n",
       "    }\n",
       "\n",
       "    .dataframe tbody tr th {\n",
       "        vertical-align: top;\n",
       "    }\n",
       "\n",
       "    .dataframe thead th {\n",
       "        text-align: right;\n",
       "    }\n",
       "</style>\n",
       "<table border=\"1\" class=\"dataframe\">\n",
       "  <thead>\n",
       "    <tr style=\"text-align: right;\">\n",
       "      <th></th>\n",
       "      <th>Product</th>\n",
       "      <th>Consumer disputed?</th>\n",
       "      <th>Timely response?</th>\n",
       "    </tr>\n",
       "  </thead>\n",
       "  <tbody>\n",
       "    <tr>\n",
       "      <th>463</th>\n",
       "      <td>2</td>\n",
       "      <td>No</td>\n",
       "      <td>Yes</td>\n",
       "    </tr>\n",
       "    <tr>\n",
       "      <th>1657</th>\n",
       "      <td>5</td>\n",
       "      <td>No</td>\n",
       "      <td>Yes</td>\n",
       "    </tr>\n",
       "    <tr>\n",
       "      <th>1808</th>\n",
       "      <td>2</td>\n",
       "      <td>No</td>\n",
       "      <td>Yes</td>\n",
       "    </tr>\n",
       "    <tr>\n",
       "      <th>5641</th>\n",
       "      <td>5</td>\n",
       "      <td>No</td>\n",
       "      <td>Yes</td>\n",
       "    </tr>\n",
       "    <tr>\n",
       "      <th>11134</th>\n",
       "      <td>0</td>\n",
       "      <td>No</td>\n",
       "      <td>No</td>\n",
       "    </tr>\n",
       "  </tbody>\n",
       "</table>\n",
       "</div>"
      ],
      "text/plain": [
       "       Product Consumer disputed? Timely response?\n",
       "463          2                 No              Yes\n",
       "1657         5                 No              Yes\n",
       "1808         2                 No              Yes\n",
       "5641         5                 No              Yes\n",
       "11134        0                 No               No"
      ]
     },
     "execution_count": 37,
     "metadata": {},
     "output_type": "execute_result"
    }
   ],
   "source": [
    "data.head()"
   ]
  },
  {
   "cell_type": "code",
   "execution_count": 38,
   "id": "e773d405",
   "metadata": {},
   "outputs": [],
   "source": [
    "data.reset_index(inplace=True)\n",
    "data.drop(['index'],axis=1,inplace=True)"
   ]
  },
  {
   "cell_type": "code",
   "execution_count": 39,
   "id": "b70f7bb0",
   "metadata": {},
   "outputs": [
    {
     "data": {
      "text/html": [
       "<div>\n",
       "<style scoped>\n",
       "    .dataframe tbody tr th:only-of-type {\n",
       "        vertical-align: middle;\n",
       "    }\n",
       "\n",
       "    .dataframe tbody tr th {\n",
       "        vertical-align: top;\n",
       "    }\n",
       "\n",
       "    .dataframe thead th {\n",
       "        text-align: right;\n",
       "    }\n",
       "</style>\n",
       "<table border=\"1\" class=\"dataframe\">\n",
       "  <thead>\n",
       "    <tr style=\"text-align: right;\">\n",
       "      <th></th>\n",
       "      <th>Product</th>\n",
       "      <th>Consumer disputed?</th>\n",
       "      <th>Timely response?</th>\n",
       "    </tr>\n",
       "  </thead>\n",
       "  <tbody>\n",
       "    <tr>\n",
       "      <th>768451</th>\n",
       "      <td>3</td>\n",
       "      <td>No</td>\n",
       "      <td>Yes</td>\n",
       "    </tr>\n",
       "    <tr>\n",
       "      <th>768452</th>\n",
       "      <td>5</td>\n",
       "      <td>No</td>\n",
       "      <td>Yes</td>\n",
       "    </tr>\n",
       "    <tr>\n",
       "      <th>768453</th>\n",
       "      <td>7</td>\n",
       "      <td>No</td>\n",
       "      <td>Yes</td>\n",
       "    </tr>\n",
       "    <tr>\n",
       "      <th>768454</th>\n",
       "      <td>4</td>\n",
       "      <td>Yes</td>\n",
       "      <td>Yes</td>\n",
       "    </tr>\n",
       "    <tr>\n",
       "      <th>768455</th>\n",
       "      <td>4</td>\n",
       "      <td>No</td>\n",
       "      <td>Yes</td>\n",
       "    </tr>\n",
       "  </tbody>\n",
       "</table>\n",
       "</div>"
      ],
      "text/plain": [
       "        Product Consumer disputed? Timely response?\n",
       "768451        3                 No              Yes\n",
       "768452        5                 No              Yes\n",
       "768453        7                 No              Yes\n",
       "768454        4                Yes              Yes\n",
       "768455        4                 No              Yes"
      ]
     },
     "execution_count": 39,
     "metadata": {},
     "output_type": "execute_result"
    }
   ],
   "source": [
    "data.tail()"
   ]
  },
  {
   "cell_type": "code",
   "execution_count": 40,
   "id": "fafb5b91",
   "metadata": {},
   "outputs": [
    {
     "data": {
      "text/plain": [
       "(768456, 3)"
      ]
     },
     "execution_count": 40,
     "metadata": {},
     "output_type": "execute_result"
    }
   ],
   "source": [
    "data.shape"
   ]
  },
  {
   "cell_type": "code",
   "execution_count": 41,
   "id": "ab487cca",
   "metadata": {},
   "outputs": [
    {
     "data": {
      "text/html": [
       "<div>\n",
       "<style scoped>\n",
       "    .dataframe tbody tr th:only-of-type {\n",
       "        vertical-align: middle;\n",
       "    }\n",
       "\n",
       "    .dataframe tbody tr th {\n",
       "        vertical-align: top;\n",
       "    }\n",
       "\n",
       "    .dataframe thead th {\n",
       "        text-align: right;\n",
       "    }\n",
       "</style>\n",
       "<table border=\"1\" class=\"dataframe\">\n",
       "  <thead>\n",
       "    <tr style=\"text-align: right;\">\n",
       "      <th></th>\n",
       "      <th>Product</th>\n",
       "      <th>Consumer disputed?</th>\n",
       "      <th>Timely response?</th>\n",
       "    </tr>\n",
       "  </thead>\n",
       "  <tbody>\n",
       "    <tr>\n",
       "      <th>23701</th>\n",
       "      <td>7</td>\n",
       "      <td>No</td>\n",
       "      <td>Yes</td>\n",
       "    </tr>\n",
       "    <tr>\n",
       "      <th>23702</th>\n",
       "      <td>0</td>\n",
       "      <td>No</td>\n",
       "      <td>Yes</td>\n",
       "    </tr>\n",
       "    <tr>\n",
       "      <th>23703</th>\n",
       "      <td>0</td>\n",
       "      <td>No</td>\n",
       "      <td>Yes</td>\n",
       "    </tr>\n",
       "    <tr>\n",
       "      <th>23704</th>\n",
       "      <td>7</td>\n",
       "      <td>No</td>\n",
       "      <td>Yes</td>\n",
       "    </tr>\n",
       "    <tr>\n",
       "      <th>23705</th>\n",
       "      <td>5</td>\n",
       "      <td>No</td>\n",
       "      <td>Yes</td>\n",
       "    </tr>\n",
       "  </tbody>\n",
       "</table>\n",
       "</div>"
      ],
      "text/plain": [
       "       Product Consumer disputed? Timely response?\n",
       "23701        7                 No              Yes\n",
       "23702        0                 No              Yes\n",
       "23703        0                 No              Yes\n",
       "23704        7                 No              Yes\n",
       "23705        5                 No              Yes"
      ]
     },
     "execution_count": 41,
     "metadata": {},
     "output_type": "execute_result"
    }
   ],
   "source": [
    "## using a loc method what i want to do certain index label\n",
    "data = data.loc[0:23705,\"Product\":\"Timely response?\"]\n",
    "data.tail()"
   ]
  },
  {
   "cell_type": "code",
   "execution_count": 42,
   "id": "c9bae14c",
   "metadata": {},
   "outputs": [
    {
     "data": {
      "text/plain": [
       "(23706, 3)"
      ]
     },
     "execution_count": 42,
     "metadata": {},
     "output_type": "execute_result"
    }
   ],
   "source": [
    "data.shape"
   ]
  },
  {
   "cell_type": "markdown",
   "id": "50af8512",
   "metadata": {},
   "source": [
    "# Build a model x and y for training and testing "
   ]
  },
  {
   "cell_type": "code",
   "execution_count": 43,
   "id": "71633868",
   "metadata": {},
   "outputs": [],
   "source": [
    "\n",
    "x = np.zeros(shape=(23706,48,48))\n",
    "for i in range(len(data['Product'])):\n",
    "        x[i] = data['Product'][i]"
   ]
  },
  {
   "cell_type": "code",
   "execution_count": 44,
   "id": "3f53da1d",
   "metadata": {},
   "outputs": [
    {
     "data": {
      "text/plain": [
       "(23706, 48, 48)"
      ]
     },
     "execution_count": 44,
     "metadata": {},
     "output_type": "execute_result"
    }
   ],
   "source": [
    "x.shape"
   ]
  },
  {
   "cell_type": "code",
   "execution_count": 45,
   "id": "6ae026ea",
   "metadata": {},
   "outputs": [
    {
     "data": {
      "text/plain": [
       "(23706, 2)"
      ]
     },
     "execution_count": 45,
     "metadata": {},
     "output_type": "execute_result"
    }
   ],
   "source": [
    "y = pd.get_dummies(data['Consumer disputed?'])\n",
    "y.shape"
   ]
  },
  {
   "cell_type": "code",
   "execution_count": 46,
   "id": "7ffeaf2b",
   "metadata": {},
   "outputs": [
    {
     "data": {
      "text/html": [
       "<div>\n",
       "<style scoped>\n",
       "    .dataframe tbody tr th:only-of-type {\n",
       "        vertical-align: middle;\n",
       "    }\n",
       "\n",
       "    .dataframe tbody tr th {\n",
       "        vertical-align: top;\n",
       "    }\n",
       "\n",
       "    .dataframe thead th {\n",
       "        text-align: right;\n",
       "    }\n",
       "</style>\n",
       "<table border=\"1\" class=\"dataframe\">\n",
       "  <thead>\n",
       "    <tr style=\"text-align: right;\">\n",
       "      <th></th>\n",
       "      <th>No</th>\n",
       "      <th>Yes</th>\n",
       "    </tr>\n",
       "  </thead>\n",
       "  <tbody>\n",
       "    <tr>\n",
       "      <th>0</th>\n",
       "      <td>1</td>\n",
       "      <td>0</td>\n",
       "    </tr>\n",
       "    <tr>\n",
       "      <th>1</th>\n",
       "      <td>1</td>\n",
       "      <td>0</td>\n",
       "    </tr>\n",
       "    <tr>\n",
       "      <th>2</th>\n",
       "      <td>1</td>\n",
       "      <td>0</td>\n",
       "    </tr>\n",
       "    <tr>\n",
       "      <th>3</th>\n",
       "      <td>1</td>\n",
       "      <td>0</td>\n",
       "    </tr>\n",
       "    <tr>\n",
       "      <th>4</th>\n",
       "      <td>1</td>\n",
       "      <td>0</td>\n",
       "    </tr>\n",
       "  </tbody>\n",
       "</table>\n",
       "</div>"
      ],
      "text/plain": [
       "   No  Yes\n",
       "0   1    0\n",
       "1   1    0\n",
       "2   1    0\n",
       "3   1    0\n",
       "4   1    0"
      ]
     },
     "execution_count": 46,
     "metadata": {},
     "output_type": "execute_result"
    }
   ],
   "source": [
    "y.head()"
   ]
  },
  {
   "cell_type": "markdown",
   "id": "0dbc847a",
   "metadata": {},
   "source": [
    "# import model selection for spliting training and testing data"
   ]
  },
  {
   "cell_type": "code",
   "execution_count": 47,
   "id": "91bdf56d",
   "metadata": {},
   "outputs": [],
   "source": [
    "from sklearn.model_selection import train_test_split"
   ]
  },
  {
   "cell_type": "code",
   "execution_count": 48,
   "id": "f3e174fc",
   "metadata": {},
   "outputs": [
    {
     "data": {
      "text/plain": [
       "((17779, 48, 48), (5927, 48, 48), (17779, 2), (5927, 2))"
      ]
     },
     "execution_count": 48,
     "metadata": {},
     "output_type": "execute_result"
    }
   ],
   "source": [
    "x_train,x_test,y_train,y_test = train_test_split(x,y,test_size=0.25,random_state=10)\n",
    "x_train.shape,x_test.shape,y_train.shape,y_test.shape"
   ]
  },
  {
   "cell_type": "markdown",
   "id": "8362f825",
   "metadata": {},
   "source": [
    "# import Sequential and Dense,Activation,Conv2D other libraries which is related to Deep learning and CNN"
   ]
  },
  {
   "cell_type": "code",
   "execution_count": 49,
   "id": "c7d17f5f",
   "metadata": {},
   "outputs": [],
   "source": [
    "from keras.models import Sequential\n",
    "from keras.layers import Dense,Activation,Conv2D,MaxPooling2D,Flatten,Dropout"
   ]
  },
  {
   "cell_type": "code",
   "execution_count": 50,
   "id": "a425d34b",
   "metadata": {},
   "outputs": [],
   "source": [
    "#Build model"
   ]
  },
  {
   "cell_type": "code",
   "execution_count": 51,
   "id": "951d5764",
   "metadata": {},
   "outputs": [
    {
     "name": "stdout",
     "output_type": "stream",
     "text": [
      "Model: \"sequential\"\n",
      "_________________________________________________________________\n",
      " Layer (type)                Output Shape              Param #   \n",
      "=================================================================\n",
      " conv2d (Conv2D)             (None, 48, 48, 8)         40        \n",
      "                                                                 \n",
      " activation (Activation)     (None, 48, 48, 8)         0         \n",
      "                                                                 \n",
      " max_pooling2d (MaxPooling2D  (None, 47, 47, 8)        0         \n",
      " )                                                               \n",
      "                                                                 \n",
      " conv2d_1 (Conv2D)           (None, 47, 47, 20)        660       \n",
      "                                                                 \n",
      " activation_1 (Activation)   (None, 47, 47, 20)        0         \n",
      "                                                                 \n",
      " max_pooling2d_1 (MaxPooling  (None, 23, 23, 20)       0         \n",
      " 2D)                                                             \n",
      "                                                                 \n",
      " conv2d_2 (Conv2D)           (None, 23, 23, 35)        2835      \n",
      "                                                                 \n",
      " activation_2 (Activation)   (None, 23, 23, 35)        0         \n",
      "                                                                 \n",
      " max_pooling2d_2 (MaxPooling  (None, 11, 11, 35)       0         \n",
      " 2D)                                                             \n",
      "                                                                 \n",
      " flatten (Flatten)           (None, 4235)              0         \n",
      "                                                                 \n",
      " dense (Dense)               (None, 64)                271104    \n",
      "                                                                 \n",
      " activation_3 (Activation)   (None, 64)                0         \n",
      "                                                                 \n",
      " dense_1 (Dense)             (None, 2)                 130       \n",
      "                                                                 \n",
      " activation_4 (Activation)   (None, 2)                 0         \n",
      "                                                                 \n",
      "=================================================================\n",
      "Total params: 274,769\n",
      "Trainable params: 274,769\n",
      "Non-trainable params: 0\n",
      "_________________________________________________________________\n"
     ]
    }
   ],
   "source": [
    "model = Sequential()\n",
    "\n",
    "model.add(Conv2D(filters=8,kernel_size=2,padding='same',input_shape=(48,48,1)))\n",
    "model.add(Activation('relu'))\n",
    "\n",
    "model.add(MaxPooling2D(pool_size=2,strides=1))\n",
    "\n",
    "model.add(Conv2D(filters=20,kernel_size=2,padding='same'))\n",
    "model.add(Activation('relu'))\n",
    "\n",
    "model.add(MaxPooling2D(pool_size=2,strides=2))\n",
    "\n",
    "model.add(Conv2D(filters=35,kernel_size=2,padding='same'))\n",
    "model.add(Activation('relu'))\n",
    "\n",
    "model.add(MaxPooling2D(pool_size=2,strides=2))\n",
    "\n",
    "model.add(Flatten())\n",
    "\n",
    "model.add(Dense(64))\n",
    "model.add(Activation('relu'))\n",
    "\n",
    "model.add(Dense(2))\n",
    "model.add(Activation('softmax'))\n",
    "\n",
    "model.summary()"
   ]
  },
  {
   "cell_type": "code",
   "execution_count": 52,
   "id": "fff569ce",
   "metadata": {},
   "outputs": [],
   "source": [
    "model.compile(optimizer='adam',loss='categorical_crossentropy',metrics='accuracy')"
   ]
  },
  {
   "cell_type": "code",
   "execution_count": 53,
   "id": "350cf78d",
   "metadata": {},
   "outputs": [
    {
     "name": "stdout",
     "output_type": "stream",
     "text": [
      "Epoch 1/5\n",
      "178/178 [==============================] - 23s 127ms/step - loss: 0.5179 - accuracy: 0.7980 - val_loss: 0.4896 - val_accuracy: 0.8104\n",
      "Epoch 2/5\n",
      "178/178 [==============================] - 23s 129ms/step - loss: 0.5043 - accuracy: 0.8006 - val_loss: 0.4888 - val_accuracy: 0.8104\n",
      "Epoch 3/5\n",
      "178/178 [==============================] - 21s 117ms/step - loss: 0.5023 - accuracy: 0.8006 - val_loss: 0.4861 - val_accuracy: 0.8104\n",
      "Epoch 4/5\n",
      "178/178 [==============================] - 20s 115ms/step - loss: 0.5018 - accuracy: 0.8006 - val_loss: 0.4892 - val_accuracy: 0.8104\n",
      "Epoch 5/5\n",
      "178/178 [==============================] - 20s 114ms/step - loss: 0.5006 - accuracy: 0.8006 - val_loss: 0.4897 - val_accuracy: 0.8104\n"
     ]
    }
   ],
   "source": [
    "Epoch_details = model.fit(x_train,y_train,batch_size=100,validation_data=(x_test,y_test),epochs=5)"
   ]
  },
  {
   "cell_type": "code",
   "execution_count": 54,
   "id": "a12feca9",
   "metadata": {},
   "outputs": [
    {
     "data": {
      "image/png": "[encoded data removed]",
      "text/plain": [
       "<Figure size 432x288 with 1 Axes>"
      ]
     },
     "metadata": {
      "needs_background": "light"
     },
     "output_type": "display_data"
    },
    {
     "data": {
      "image/png": "[encoded data removed]",
      "text/plain": [
       "<Figure size 432x288 with 1 Axes>"
      ]
     },
     "metadata": {
      "needs_background": "light"
     },
     "output_type": "display_data"
    }
   ],
   "source": [
    "# Evaluate the model\n",
    "plt.plot(Epoch_details.history['accuracy'], label='Train')\n",
    "plt.plot(Epoch_details.history['val_accuracy'], label='Validation')\n",
    "plt.title('Model Accuracy')\n",
    "plt.ylabel('Accuracy')\n",
    "plt.xlabel('Epoch')\n",
    "plt.legend()\n",
    "plt.show()\n",
    " \n",
    "plt.plot (Epoch_details.history['loss'],label='Train')\n",
    "plt.plot(Epoch_details.history['val_loss'],label='Validation')\n",
    "plt.title('Model Loss')\n",
    "plt.ylabel('Loss')\n",
    "plt.xlabel('Epoch')\n",
    "plt.legend()\n",
    "plt.show()"
   ]
  },
  {
   "cell_type": "markdown",
   "id": "f0b598c8",
   "metadata": {},
   "source": [
    "# Predict the accuracy"
   ]
  },
  {
   "cell_type": "code",
   "execution_count": 55,
   "id": "24d45540",
   "metadata": {},
   "outputs": [
    {
     "name": "stdout",
     "output_type": "stream",
     "text": [
      "186/186 [==============================] - 3s 14ms/step - loss: 0.4897 - accuracy: 0.8104\n"
     ]
    }
   ],
   "source": [
    "Consumer_disputed = model.evaluate(x_test,y_test)"
   ]
  },
  {
   "cell_type": "markdown",
   "id": "c759ebd5",
   "metadata": {},
   "source": [
    "# as you can see here my accuracy prediction is 81% which is \"Consumer complaint will be not disputed\" by used a CNN method\n",
    "Consumer complaint not disputed predict is 81%"
   ]
  },
  {
   "cell_type": "code",
   "execution_count": null,
   "id": "15e6decf",
   "metadata": {},
   "outputs": [],
   "source": []
  }
 ],
 "metadata": {
  "kernelspec": {
   "display_name": "Python 3",
   "language": "python",
   "name": "python3"
  },
  "language_info": {
   "codemirror_mode": {
    "name": "ipython",
    "version": 3
   },
   "file_extension": ".py",
   "mimetype": "text/x-python",
   "name": "python",
   "nbconvert_exporter": "python",
   "pygments_lexer": "ipython3",
   "version": "3.8.8"
  }
 },
 "nbformat": 4,
 "nbformat_minor": 5
}
